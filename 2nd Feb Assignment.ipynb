{
 "cells": [
  {
   "cell_type": "code",
   "execution_count": 14,
   "id": "c9bb178e-49ad-4658-adc3-d452dc4f78ce",
   "metadata": {},
   "outputs": [
    {
     "name": "stdout",
     "output_type": "stream",
     "text": [
      "1\n",
      "2\n",
      "3\n",
      "4\n",
      "5\n",
      "6\n"
     ]
    }
   ],
   "source": [
    "##Solution for Question 1\n",
    "l=[1,2,3,4,5,6]\n",
    "for i in l:\n",
    "    print(i)\n"
   ]
  },
  {
   "cell_type": "code",
   "execution_count": 15,
   "id": "da57c324-b28c-431a-8e95-6f8e50a11e08",
   "metadata": {},
   "outputs": [
    {
     "name": "stdout",
     "output_type": "stream",
     "text": [
      "1\n",
      "2\n",
      "3\n",
      "4\n",
      "5\n",
      "6\n"
     ]
    }
   ],
   "source": [
    "count=1\n",
    "while count <7:\n",
    "    d=count\n",
    "    count=count+1\n",
    "    print(d)"
   ]
  },
  {
   "cell_type": "code",
   "execution_count": 2,
   "id": "4a55220a-0369-4335-97be-158bbc3bbce8",
   "metadata": {},
   "outputs": [],
   "source": [
    "##Q2. Write a python program to print the sum and product of the first 10 natural numbers using for\n",
    "##    and while loop."
   ]
  },
  {
   "cell_type": "code",
   "execution_count": 3,
   "id": "4e7aac9d-eb0e-4312-9f35-0ef1c02b24db",
   "metadata": {},
   "outputs": [
    {
     "data": {
      "text/plain": [
       "range(1, 11)"
      ]
     },
     "execution_count": 3,
     "metadata": {},
     "output_type": "execute_result"
    }
   ],
   "source": [
    "range(1,11)"
   ]
  },
  {
   "cell_type": "code",
   "execution_count": 4,
   "id": "0af7366d-4a03-4950-a546-256113c86147",
   "metadata": {},
   "outputs": [
    {
     "data": {
      "text/plain": [
       "[1, 2, 3, 4, 5, 6, 7, 8, 9, 10]"
      ]
     },
     "execution_count": 4,
     "metadata": {},
     "output_type": "execute_result"
    }
   ],
   "source": [
    "list(range(1,11))"
   ]
  },
  {
   "cell_type": "code",
   "execution_count": 5,
   "id": "bf6d4480-a384-4dc3-add1-6ebf10937914",
   "metadata": {},
   "outputs": [
    {
     "data": {
      "text/plain": [
       "55"
      ]
     },
     "execution_count": 5,
     "metadata": {},
     "output_type": "execute_result"
    }
   ],
   "source": [
    "## sum with for loop\n",
    "Add=0\n",
    "for i in list(range(1,11)):\n",
    "    Add=Add+i\n",
    "Add"
   ]
  },
  {
   "cell_type": "code",
   "execution_count": 6,
   "id": "908acc09-3d70-4e62-a858-254ef494561a",
   "metadata": {},
   "outputs": [
    {
     "data": {
      "text/plain": [
       "3628800"
      ]
     },
     "execution_count": 6,
     "metadata": {},
     "output_type": "execute_result"
    }
   ],
   "source": [
    "## Product with for Loop\n",
    "product=1\n",
    "\n",
    "for i in list(range(1,11)):\n",
    "    product=product*i\n",
    "product\n"
   ]
  },
  {
   "cell_type": "code",
   "execution_count": 7,
   "id": "0ac27675-94b6-4ce5-98aa-26263fa32e23",
   "metadata": {},
   "outputs": [],
   "source": [
    "## Sum with while loop"
   ]
  },
  {
   "cell_type": "code",
   "execution_count": 8,
   "id": "89b5e2e4-7321-455b-a07d-36c64aabeb4f",
   "metadata": {},
   "outputs": [
    {
     "data": {
      "text/plain": [
       "55"
      ]
     },
     "execution_count": 8,
     "metadata": {},
     "output_type": "execute_result"
    }
   ],
   "source": [
    "b=0\n",
    "a=1\n",
    "\n",
    "while a<=10:\n",
    "    b=b+a\n",
    "    a=a+1\n",
    "b\n"
   ]
  },
  {
   "cell_type": "code",
   "execution_count": 9,
   "id": "99baf1fe-35a4-4821-a63b-155aa82dbb8b",
   "metadata": {},
   "outputs": [],
   "source": [
    "## Product with while loop"
   ]
  },
  {
   "cell_type": "code",
   "execution_count": 10,
   "id": "48c18d36-b87b-44ad-beee-56aa55222869",
   "metadata": {},
   "outputs": [
    {
     "data": {
      "text/plain": [
       "3628800"
      ]
     },
     "execution_count": 10,
     "metadata": {},
     "output_type": "execute_result"
    }
   ],
   "source": [
    "p=1\n",
    "a=1\n",
    "while p<=10:\n",
    "    a=p*a\n",
    "    p=p+1\n",
    "a\n",
    "    \n"
   ]
  },
  {
   "cell_type": "code",
   "execution_count": 11,
   "id": "cf241a79-3a33-4dab-93ff-aa5dbf2ccd1a",
   "metadata": {},
   "outputs": [],
   "source": [
    "##Q3. Create a python program to compute the electricity bill for a household."
   ]
  },
  {
   "cell_type": "code",
   "execution_count": 1,
   "id": "0fed54bf-86e4-4ce9-b1f3-5ed92ac677ab",
   "metadata": {},
   "outputs": [
    {
     "name": "stdin",
     "output_type": "stream",
     "text": [
      "enter your bill amount 310\n"
     ]
    },
    {
     "name": "stdout",
     "output_type": "stream",
     "text": [
      "2250.0\n"
     ]
    }
   ],
   "source": [
    "n=int(input(\"enter your bill amount\"))\n",
    "\n",
    "if n<= 100 :\n",
    "    bill=n*4.5\n",
    "elif n==200:\n",
    "    bill=100*4.5+100*6\n",
    "elif n==300:\n",
    "    bill=100*4.5+100*6+100*10\n",
    "elif n>100 and n <=200:\n",
    "    bill=100*4.5 + (n%100)*6\n",
    "elif n>200 and n <= 300:\n",
    "    bill=100*4.5 + 100*6 + (n%100)*10\n",
    "elif n>300:\n",
    "    bill=100*4.5 + 100*6 + 100*10 + (n-300)*20\n",
    "print(bill)\n"
   ]
  },
  {
   "cell_type": "code",
   "execution_count": null,
   "id": "66948cb0-d0e3-4870-a138-768fdb93a7bb",
   "metadata": {},
   "outputs": [],
   "source": [
    "##Q4. Create a list of numbers from 1 to 100. Use for loop and while loop to calculate the cube of each\n",
    "##number and if the cube of that number is divisible by 4 or 5 then append that number in a list and print\n",
    "##that list."
   ]
  },
  {
   "cell_type": "code",
   "execution_count": 12,
   "id": "6154024b-2c38-4511-bab3-04e9e31b62fd",
   "metadata": {},
   "outputs": [],
   "source": [
    "## using for loop"
   ]
  },
  {
   "cell_type": "code",
   "execution_count": 17,
   "id": "1c3e54f8-c649-454f-9a1d-11be39413041",
   "metadata": {},
   "outputs": [
    {
     "name": "stdout",
     "output_type": "stream",
     "text": [
      "[64, 125, 512, 1000, 1728, 3375, 4096, 8000, 13824, 15625, 21952, 27000, 32768, 42875, 46656, 64000, 85184, 91125, 110592, 125000, 140608, 166375, 175616, 216000, 262144, 274625, 314432, 343000, 373248, 421875, 438976, 512000, 592704, 614125, 681472, 729000, 778688, 857375, 884736, 1000000]\n"
     ]
    }
   ],
   "source": [
    "l1=list(range(1,101))\n",
    "l2=[]\n",
    "for i in l1:\n",
    "    if i%4==0 or i%5==0:\n",
    "        l2.append(i*i*i)\n",
    "print(l2)   "
   ]
  },
  {
   "cell_type": "code",
   "execution_count": null,
   "id": "995bf178-a8b5-4d45-9550-4f7f787ccdda",
   "metadata": {},
   "outputs": [],
   "source": [
    "count=1\n",
    "l3=[]\n",
    "while count<=1000:\n",
    "    if count%4==0 or count%5==0:\n",
    "        l3.append(count*count*count)\n",
    "        count=count+1\n",
    "print(l3)       "
   ]
  },
  {
   "cell_type": "code",
   "execution_count": null,
   "id": "37f81161-3373-4263-a88f-53a042774dba",
   "metadata": {},
   "outputs": [],
   "source": [
    "##Q5. Write a program to filter count vowels in the below-given string.\n",
    "##string = \"I want to become a data scientist\""
   ]
  },
  {
   "cell_type": "code",
   "execution_count": 32,
   "id": "c0bf11d3-4142-4fcc-a0ce-9591ef622e3a",
   "metadata": {},
   "outputs": [],
   "source": [
    "s1='I want to become a data scientist'"
   ]
  },
  {
   "cell_type": "code",
   "execution_count": 33,
   "id": "472eb0ec-7aae-4b6f-8430-8c0a6c3d4631",
   "metadata": {},
   "outputs": [
    {
     "name": "stdout",
     "output_type": "stream",
     "text": [
      "Number of Vowel is 12\n"
     ]
    }
   ],
   "source": [
    "v=0\n",
    "for i  in s1:\n",
    "    if (i=='a' or i=='e'or i=='i' or i=='o'or i=='u' or i=='A'or i=='E' or i=='I'or i=='O' or i=='U'):\n",
    "        v=v+1     \n",
    "print('Number of Vowel is',v)"
   ]
  },
  {
   "cell_type": "code",
   "execution_count": null,
   "id": "02785d9f-5043-43ea-8e41-95736817b2ea",
   "metadata": {},
   "outputs": [],
   "source": []
  },
  {
   "cell_type": "code",
   "execution_count": null,
   "id": "8db97012-c043-4dc6-98e7-0585fd6e6813",
   "metadata": {},
   "outputs": [],
   "source": []
  },
  {
   "cell_type": "code",
   "execution_count": null,
   "id": "d1b3bd7f-4425-4038-818c-bb7625e0f80b",
   "metadata": {},
   "outputs": [],
   "source": []
  },
  {
   "cell_type": "code",
   "execution_count": null,
   "id": "e6c323b2-265c-47cf-be7c-7a0c911908fc",
   "metadata": {},
   "outputs": [],
   "source": []
  }
 ],
 "metadata": {
  "kernelspec": {
   "display_name": "Python 3 (ipykernel)",
   "language": "python",
   "name": "python3"
  },
  "language_info": {
   "codemirror_mode": {
    "name": "ipython",
    "version": 3
   },
   "file_extension": ".py",
   "mimetype": "text/x-python",
   "name": "python",
   "nbconvert_exporter": "python",
   "pygments_lexer": "ipython3",
   "version": "3.10.8"
  }
 },
 "nbformat": 4,
 "nbformat_minor": 5
}

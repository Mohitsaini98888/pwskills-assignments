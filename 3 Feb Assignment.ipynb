{
 "cells": [
  {
   "cell_type": "code",
   "execution_count": 1,
   "id": "fd93bfee-62ea-4184-a339-582da3423c5c",
   "metadata": {},
   "outputs": [],
   "source": [
    "## Q1 Which keyword is used to create a function? Create a function to return a list of odd numbers in the\n",
    "## range of 1 to 25."
   ]
  },
  {
   "cell_type": "code",
   "execution_count": 2,
   "id": "d5c6b86d-442c-43d8-b1ce-c9382a634381",
   "metadata": {},
   "outputs": [],
   "source": [
    "def function_name(): ##def is use to make function\n",
    "    a"
   ]
  },
  {
   "cell_type": "code",
   "execution_count": 3,
   "id": "d84a4ecc-1780-46c5-b860-80d02e66ea06",
   "metadata": {},
   "outputs": [],
   "source": [
    "b=list(range(1,25))\n",
    "l1=[]\n",
    "def odd(c):\n",
    "    for i in c:\n",
    "        if i%2 != 0:\n",
    "            l1.append(i)\n",
    "    print(l1)\n",
    "           "
   ]
  },
  {
   "cell_type": "code",
   "execution_count": 4,
   "id": "99e5cc75-4bdb-4436-adb4-831cc88d885e",
   "metadata": {},
   "outputs": [
    {
     "name": "stdout",
     "output_type": "stream",
     "text": [
      "[1, 3, 5, 7, 9, 11, 13, 15, 17, 19, 21, 23]\n"
     ]
    }
   ],
   "source": [
    "odd(b)"
   ]
  },
  {
   "cell_type": "code",
   "execution_count": 5,
   "id": "385fd8b6-1687-47c0-87e4-3377c6b5bda9",
   "metadata": {},
   "outputs": [],
   "source": [
    "##Q2. Why *args and **kwargs is used in some functions? Create a function each for *args and **kwargs\n",
    "##to demonstrate their use."
   ]
  },
  {
   "cell_type": "code",
   "execution_count": 6,
   "id": "7846733d-a63f-4ebc-90b9-b594fa5ccec9",
   "metadata": {},
   "outputs": [],
   "source": [
    "##Answer  ## we use *args to pass variable number of non-keywords arguments in function in tuple form"
   ]
  },
  {
   "cell_type": "code",
   "execution_count": 7,
   "id": "84217bbd-3f53-4048-85ed-82e8f1ea1b22",
   "metadata": {},
   "outputs": [],
   "source": [
    "def test(args1,*args):\n",
    "    print('My number of arguments=',*args,args1)"
   ]
  },
  {
   "cell_type": "code",
   "execution_count": 8,
   "id": "02a14308-3ca9-4a74-add3-df9131cc84a3",
   "metadata": {},
   "outputs": [
    {
     "name": "stdout",
     "output_type": "stream",
     "text": [
      "My number of arguments= sk ills Pw\n"
     ]
    }
   ],
   "source": [
    "test('Pw','sk','ills') ##pw is args1 single argument "
   ]
  },
  {
   "cell_type": "code",
   "execution_count": 9,
   "id": "66e7b9ea-f9ed-4251-8f69-e22cca49aa71",
   "metadata": {},
   "outputs": [],
   "source": [
    "##answer ## we use **kwargs to pass variable number of keywords arugument in dictionary form"
   ]
  },
  {
   "cell_type": "code",
   "execution_count": 10,
   "id": "68c6b473-c408-40c9-bf13-e2cea7033a2d",
   "metadata": {},
   "outputs": [],
   "source": [
    "def test1(**kwargs):\n",
    "    for k,v in kwargs.items():\n",
    "        print('%s=%s'% (k,v))\n",
    "    "
   ]
  },
  {
   "cell_type": "code",
   "execution_count": 11,
   "id": "d6215af2-4b53-4ecf-8c4b-cd411b12e597",
   "metadata": {},
   "outputs": [
    {
     "name": "stdout",
     "output_type": "stream",
     "text": [
      "a1=value1\n",
      "a2=value2\n"
     ]
    }
   ],
   "source": [
    "test1(a1='value1', a2='value2')"
   ]
  },
  {
   "cell_type": "code",
   "execution_count": 12,
   "id": "73879b8c-71b0-47ea-b898-f89a74099a1a",
   "metadata": {},
   "outputs": [],
   "source": [
    "##Q3. What is an iterator in python? Name the method used to initialise the iterator object and the method\n",
    "##used for iteration. Use these methods to print the first five elements of the given list [2, 4, 6, 8, 10, 12, 14,\n",
    "##16, 18, 20]."
   ]
  },
  {
   "cell_type": "code",
   "execution_count": 13,
   "id": "b67f76ef-99be-4f9e-a4ed-e808754c5773",
   "metadata": {},
   "outputs": [],
   "source": [
    "## iterator is number of object in group that can be iterated upon eg. list1=['mohit']\n",
    "## this can me break down in ['m','o','h','i','t']. to convert to iterator we use iter()\n",
    "##for intialize the iterator we use loop like for or while."
   ]
  },
  {
   "cell_type": "code",
   "execution_count": 14,
   "id": "adc6eb0f-a3d8-4ee4-93ac-8835b9facf86",
   "metadata": {},
   "outputs": [
    {
     "name": "stdout",
     "output_type": "stream",
     "text": [
      "2\n",
      "4\n",
      "6\n",
      "8\n",
      "10\n"
     ]
    }
   ],
   "source": [
    "## code\n",
    "l1=[2,4,6,8,10,12,14,16,18,20]\n",
    "count=0\n",
    "for i in l1:\n",
    "    print(i)\n",
    "    count=count+1\n",
    "    if count==5:\n",
    "        break"
   ]
  },
  {
   "cell_type": "code",
   "execution_count": 15,
   "id": "260b0bb7-2646-4828-94f7-04f0387a537b",
   "metadata": {},
   "outputs": [],
   "source": [
    "\n",
    "# Q4. What is a generator function in python? Why yield keyword is used? Give an example of a generator\n",
    "# function.\n"
   ]
  },
  {
   "cell_type": "code",
   "execution_count": 16,
   "id": "f64d9edc-0538-4a01-9b7a-ed7a22d03d69",
   "metadata": {},
   "outputs": [],
   "source": [
    "#Anwser Generator function is special kind of function that return iterated value after interation of values\n",
    "#this also save memory beacuse it is giving the value just after iteration.\n",
    "\n",
    "#yield is used to return generator value"
   ]
  },
  {
   "cell_type": "code",
   "execution_count": 27,
   "id": "b0d552e6-980d-414e-bc8d-fd20e4e849e4",
   "metadata": {},
   "outputs": [],
   "source": [
    "def generator_exmp(a):\n",
    "    for i in range(a):\n",
    "        yield i\n",
    "        i"
   ]
  },
  {
   "cell_type": "code",
   "execution_count": 31,
   "id": "b27e5bd4-668f-4421-a34d-58b5c3987c1c",
   "metadata": {},
   "outputs": [],
   "source": [
    "\n",
    "g=generator_exmp(10)"
   ]
  },
  {
   "cell_type": "code",
   "execution_count": 32,
   "id": "135e2d07-3288-4ffe-a31d-29397d5b625f",
   "metadata": {},
   "outputs": [
    {
     "name": "stdout",
     "output_type": "stream",
     "text": [
      "0\n",
      "1\n",
      "2\n",
      "3\n",
      "4\n",
      "5\n",
      "6\n",
      "7\n",
      "8\n",
      "9\n"
     ]
    }
   ],
   "source": [
    "for i in g:\n",
    "    print(i)"
   ]
  },
  {
   "cell_type": "code",
   "execution_count": null,
   "id": "77bded9f-ba0a-4ced-94bc-78a4aac779f9",
   "metadata": {},
   "outputs": [],
   "source": [
    "##Q5. Create a generator function for prime numbers less than 1000. Use the next() method to print the\n",
    "## first 20 prime numbers."
   ]
  },
  {
   "cell_type": "code",
   "execution_count": null,
   "id": "3c2f28ef-11a5-4c95-9b7b-fd1e110c9782",
   "metadata": {},
   "outputs": [],
   "source": [
    "def prime(a):\n",
    "    for i in range(2,a+1):\n",
    "        for j in range(2,a+1):\n",
    "            if i%j==0:\n",
    "                break\n",
    "        if i==j:\n",
    "            print(i)\n",
    "       "
   ]
  },
  {
   "cell_type": "code",
   "execution_count": null,
   "id": "19a5beaa-29f0-4df9-9694-bc12cb2a56ca",
   "metadata": {},
   "outputs": [],
   "source": [
    "prime(20)"
   ]
  },
  {
   "cell_type": "code",
   "execution_count": null,
   "id": "4e8ce812-35fa-4ae1-ba03-067975d4b8fb",
   "metadata": {},
   "outputs": [],
   "source": [
    "# Q6. Write a python program to print the first 10 Fibonacci numbers using a while loop."
   ]
  },
  {
   "cell_type": "code",
   "execution_count": null,
   "id": "9c170982-4b0a-46a3-bc92-e650378e3fc5",
   "metadata": {},
   "outputs": [],
   "source": [
    "a,b=0,1\n",
    "count=0\n",
    "while count <10:\n",
    "    print(a)\n",
    "    a,b=b,a+b\n",
    "    count=count+1"
   ]
  },
  {
   "cell_type": "code",
   "execution_count": null,
   "id": "71f1b6fe-9065-4c6b-8410-3be182fd08b7",
   "metadata": {},
   "outputs": [],
   "source": [
    "# Q7. Write a List Comprehension to iterate through the given string: ‘pwskills’.\n",
    "# Expected output: ['p', 'w', 's', 'k', 'i', 'l', 'l', 's']"
   ]
  },
  {
   "cell_type": "code",
   "execution_count": null,
   "id": "1e55a24d-8ce0-41ac-8639-d7511d4338c1",
   "metadata": {},
   "outputs": [],
   "source": [
    "s1='pwskills'"
   ]
  },
  {
   "cell_type": "code",
   "execution_count": null,
   "id": "83ecc87e-027b-4ded-92a2-9d48526c82b2",
   "metadata": {},
   "outputs": [],
   "source": [
    "count=0\n",
    "s3=[]\n",
    "for i in s1:\n",
    "    \n",
    "    if count <= len(s1):\n",
    "        count=count+1\n",
    "        s3.append(i)\n",
    "    else:\n",
    "        break\n",
    "print(s3)"
   ]
  },
  {
   "cell_type": "code",
   "execution_count": null,
   "id": "2c88f0f4-1351-440c-a80b-7ac5c0784812",
   "metadata": {},
   "outputs": [],
   "source": [
    "# Q8. Write a python program to check whether a given number is Palindrome or not using a while loop."
   ]
  },
  {
   "cell_type": "code",
   "execution_count": 18,
   "id": "5aaecdea-4687-42d2-bab6-f528579cb06a",
   "metadata": {},
   "outputs": [
    {
     "name": "stdin",
     "output_type": "stream",
     "text": [
      "Enter Number here 12321\n"
     ]
    },
    {
     "name": "stdout",
     "output_type": "stream",
     "text": [
      "this number is palindrom\n"
     ]
    }
   ],
   "source": [
    "n=int(input('Enter Number here'))\n",
    "n1=n\n",
    "r=0\n",
    "while n>0:\n",
    "    digit=n%10\n",
    "    r=r*10+digit\n",
    "    n=n//10\n",
    "if (n1==r):\n",
    "    print('this number is palindrom')\n",
    "else:\n",
    "    print('Not a palindrom')"
   ]
  },
  {
   "cell_type": "code",
   "execution_count": null,
   "id": "dbb38ba6-c2b7-4551-bc21-fbb9d4b0af35",
   "metadata": {},
   "outputs": [],
   "source": [
    "#Q9. Write a code to print odd numbers from 1 to 100 using list comprehension.\n",
    "#Note: Use a list comprehension to create a list from 1 to 100 and use another List comprehension to filter\n",
    "#out odd numbers."
   ]
  },
  {
   "cell_type": "code",
   "execution_count": 19,
   "id": "0f3114b7-d99d-46ed-a967-64476ccd4989",
   "metadata": {},
   "outputs": [],
   "source": [
    "list1=list(range(101))\n",
    "list2=[]"
   ]
  },
  {
   "cell_type": "code",
   "execution_count": 25,
   "id": "8f29ff3e-6fc2-487f-8bd9-e3ee0a21df53",
   "metadata": {},
   "outputs": [
    {
     "data": {
      "text/plain": [
       "[1,\n",
       " 3,\n",
       " 5,\n",
       " 7,\n",
       " 9,\n",
       " 11,\n",
       " 13,\n",
       " 15,\n",
       " 17,\n",
       " 19,\n",
       " 21,\n",
       " 23,\n",
       " 25,\n",
       " 27,\n",
       " 29,\n",
       " 31,\n",
       " 33,\n",
       " 35,\n",
       " 37,\n",
       " 39,\n",
       " 41,\n",
       " 43,\n",
       " 45,\n",
       " 47,\n",
       " 49,\n",
       " 51,\n",
       " 53,\n",
       " 55,\n",
       " 57,\n",
       " 59,\n",
       " 61,\n",
       " 63,\n",
       " 65,\n",
       " 67,\n",
       " 69,\n",
       " 71,\n",
       " 73,\n",
       " 75,\n",
       " 77,\n",
       " 79,\n",
       " 81,\n",
       " 83,\n",
       " 85,\n",
       " 87,\n",
       " 89,\n",
       " 91,\n",
       " 93,\n",
       " 95,\n",
       " 97,\n",
       " 99]"
      ]
     },
     "execution_count": 25,
     "metadata": {},
     "output_type": "execute_result"
    }
   ],
   "source": [
    "[ i for i in list1 if i%2!=0 ]"
   ]
  },
  {
   "cell_type": "code",
   "execution_count": null,
   "id": "b22cf693-7df1-4ed7-96be-40b42a0876b5",
   "metadata": {},
   "outputs": [],
   "source": []
  }
 ],
 "metadata": {
  "kernelspec": {
   "display_name": "Python 3 (ipykernel)",
   "language": "python",
   "name": "python3"
  },
  "language_info": {
   "codemirror_mode": {
    "name": "ipython",
    "version": 3
   },
   "file_extension": ".py",
   "mimetype": "text/x-python",
   "name": "python",
   "nbconvert_exporter": "python",
   "pygments_lexer": "ipython3",
   "version": "3.10.8"
  }
 },
 "nbformat": 4,
 "nbformat_minor": 5
}
